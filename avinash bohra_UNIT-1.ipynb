{
 "cells": [
  {
   "cell_type": "markdown",
   "id": "f937f4dd-5421-45a9-be82-99b9dff6feec",
   "metadata": {},
   "source": [
    "# UNIT-1"
   ]
  },
  {
   "cell_type": "code",
   "execution_count": 2,
   "id": "29d6e51b-c415-487b-8cad-9c7878de90c0",
   "metadata": {},
   "outputs": [
    {
     "name": "stdin",
     "output_type": "stream",
     "text": [
      "Enter the number of elements in the list:  5\n"
     ]
    },
    {
     "name": "stdout",
     "output_type": "stream",
     "text": [
      "Enter the elements:\n"
     ]
    },
    {
     "name": "stdin",
     "output_type": "stream",
     "text": [
      "Enter element 1:  1\n",
      "Enter element 2:  2\n",
      "Enter element 3:  3\n",
      "Enter element 4:  4\n",
      "Enter element 5:  5\n",
      "Enter the element to search for:  5\n"
     ]
    },
    {
     "name": "stdout",
     "output_type": "stream",
     "text": [
      "Element 5 found at position 5.\n"
     ]
    }
   ],
   "source": [
    "#Write a Python Program to input the length of a series/list and create a list dynamically, Hence search from the list using Linear Search.\n",
    "n = int(input(\"Enter the number of elements in the list: \"))\n",
    "\n",
    "lst = []\n",
    "print(\"Enter the elements:\")\n",
    "for i in range(n):\n",
    "    element = int(input(f\"Enter element {i + 1}: \"))\n",
    "    lst.append(element)\n",
    "\n",
    "search_element = int(input(\"Enter the element to search for: \"))\n",
    "\n",
    "found = False\n",
    "for i in range(len(lst)):\n",
    "    if lst[i] == search_element:\n",
    "        print(f\"Element {search_element} found at position {i + 1}.\")\n",
    "        found = True\n",
    "        break\n",
    "\n",
    "if not found:\n",
    "    print(f\"Element {search_element} is not in the list.\")"
   ]
  },
  {
   "cell_type": "code",
   "execution_count": 4,
   "id": "90fd9bcc-c3c7-449c-bb84-2b95b08272c7",
   "metadata": {},
   "outputs": [
    {
     "name": "stdin",
     "output_type": "stream",
     "text": [
      "Enter the number of students:  4\n"
     ]
    },
    {
     "name": "stdout",
     "output_type": "stream",
     "text": [
      "\n",
      "Enter details for student:\n"
     ]
    },
    {
     "name": "stdin",
     "output_type": "stream",
     "text": [
      "Roll Number:  234\n",
      "Name:  fwe\n",
      "Course ID:  12\n"
     ]
    },
    {
     "name": "stdout",
     "output_type": "stream",
     "text": [
      "\n",
      "Enter details for student:\n"
     ]
    },
    {
     "name": "stdin",
     "output_type": "stream",
     "text": [
      "Roll Number:  2344\n",
      "Name:  kuna\n",
      "Course ID:  122\n"
     ]
    },
    {
     "name": "stdout",
     "output_type": "stream",
     "text": [
      "\n",
      "Enter details for student:\n"
     ]
    },
    {
     "name": "stdin",
     "output_type": "stream",
     "text": [
      "Roll Number:  5678\n",
      "Name:  kjsihfifu\n",
      "Course ID:  78\n"
     ]
    },
    {
     "name": "stdout",
     "output_type": "stream",
     "text": [
      "\n",
      "Enter details for student:\n"
     ]
    },
    {
     "name": "stdin",
     "output_type": "stream",
     "text": [
      "Roll Number:  1234\n",
      "Name:  shdh\n",
      "Course ID:  43\n",
      "\n",
      "Enter the Roll Number to find the Course ID:  \n"
     ]
    },
    {
     "name": "stdout",
     "output_type": "stream",
     "text": [
      "Roll Number  not found.\n"
     ]
    }
   ],
   "source": [
    "#Write a Python Program to create a Dictionary for every students data which may include the Name, Rollno, and Course ID. Hence create for the rollno and output the course ID\n",
    "students = {}\n",
    "\n",
    "n = int(input(\"Enter the number of students: \"))\n",
    "\n",
    "for _ in range(n):\n",
    "    print(\"\\nEnter details for student:\")\n",
    "    roll_no = input(\"Roll Number: \")\n",
    "    name = input(\"Name: \")\n",
    "    course_id = input(\"Course ID: \")\n",
    "\n",
    "    students[roll_no] = {\"Name\": name, \"Course ID\": course_id}\n",
    "\n",
    "search_roll_no = input(\"\\nEnter the Roll Number to find the Course ID: \")\n",
    "\n",
    "if search_roll_no in students:\n",
    "    print(f\"Course ID for Roll Number {search_roll_no}: {students[search_roll_no]['Course ID']}\")\n",
    "else:\n",
    "    print(f\"Roll Number {search_roll_no} not found.\")"
   ]
  },
  {
   "cell_type": "code",
   "execution_count": 6,
   "id": "814be29b-655d-459a-9b5e-698a229d2170",
   "metadata": {},
   "outputs": [
    {
     "name": "stdout",
     "output_type": "stream",
     "text": [
      "menu\n",
      "1 - Pasta:Rs.449\n",
      "2 - Pizza:Rs.349\n",
      "3 - Burger:Rs.199\n",
      "4 - Sandwich:Rs.149\n",
      "5 - Coke:Rs.49\n"
     ]
    },
    {
     "name": "stdin",
     "output_type": "stream",
     "text": [
      "Enter the dish you want to order (or press0 to finish): 1\n"
     ]
    },
    {
     "name": "stdout",
     "output_type": "stream",
     "text": [
      "Pasta added to your bill. Current total: Rs.449\n"
     ]
    },
    {
     "name": "stdin",
     "output_type": "stream",
     "text": [
      "Enter the dish you want to order (or press0 to finish): 3\n"
     ]
    },
    {
     "name": "stdout",
     "output_type": "stream",
     "text": [
      "Burger added to your bill. Current total: Rs.648\n"
     ]
    },
    {
     "name": "stdin",
     "output_type": "stream",
     "text": [
      "Enter the dish you want to order (or press0 to finish): 4\n"
     ]
    },
    {
     "name": "stdout",
     "output_type": "stream",
     "text": [
      "Sandwich added to your bill. Current total: Rs.797\n"
     ]
    },
    {
     "name": "stdin",
     "output_type": "stream",
     "text": [
      "Enter the dish you want to order (or press0 to finish): 0\n"
     ]
    },
    {
     "name": "stdout",
     "output_type": "stream",
     "text": [
      "Your total bill is:Rs.797\n"
     ]
    }
   ],
   "source": [
    "#Write a python program that display a menu with item prices lets the user select item to add to their order and show the total bill when they finish\n",
    "menu=[\n",
    "    {\"Name\":\"Pasta\",\"Price\":449},\n",
    "    {\"Name\":\"Pizza\",\"Price\":349},\n",
    "    {\"Name\":\"Burger\",\"Price\":199},\n",
    "    {\"Name\":\"Sandwich\",\"Price\":149},\n",
    "    {\"Name\":\"Coke\",\"Price\":49}\n",
    "]\n",
    "total_bill=0\n",
    "print('menu')\n",
    "c=1\n",
    "for item in range(len(menu)):\n",
    "    print(f\"{c} - {menu[item]['Name']}:Rs.{menu[item]['Price']}\")\n",
    "    c=c+1\n",
    "while 1==1:\n",
    "    choice=int(input(\"Enter the dish you want to order (or press0 to finish):\"))\n",
    "    if choice==0:\n",
    "        break\n",
    "    elif choice in range(1,len(menu)+1):\n",
    "        total_bill+=menu[choice-1]['Price']\n",
    "        print(f\"{menu[choice - 1]['Name']} added to your bill. Current total: Rs.{total_bill}\")\n",
    "    else:\n",
    "        print(\"Dish not found in the menu. Please try again.\")\n",
    "print(f\"Your total bill is:Rs.{total_bill}\")"
   ]
  },
  {
   "cell_type": "code",
   "execution_count": 10,
   "id": "2349fe79-9b11-4dc1-a8fd-5919b4ec06cf",
   "metadata": {},
   "outputs": [
    {
     "name": "stdout",
     "output_type": "stream",
     "text": [
      "ATM\n"
     ]
    },
    {
     "name": "stdin",
     "output_type": "stream",
     "text": [
      "Enter your A/c number: 1234567890\n",
      "Enter your ATM PIN 1234\n"
     ]
    },
    {
     "name": "stdout",
     "output_type": "stream",
     "text": [
      "Login successful!\n",
      "1. Check Balance\n",
      "2. Deposit Money\n",
      "3. Withdraw Money\n",
      "4. Exit\n"
     ]
    },
    {
     "name": "stdin",
     "output_type": "stream",
     "text": [
      "Enter a number of an option 1\n"
     ]
    },
    {
     "name": "stdout",
     "output_type": "stream",
     "text": [
      "Balance is: Rs.1500000\n",
      "1. Check Balance\n",
      "2. Deposit Money\n",
      "3. Withdraw Money\n",
      "4. Exit\n"
     ]
    },
    {
     "name": "stdin",
     "output_type": "stream",
     "text": [
      "Enter a number of an option 4\n"
     ]
    },
    {
     "name": "stdout",
     "output_type": "stream",
     "text": [
      "Thank you for using our ATM!\n"
     ]
    }
   ],
   "source": [
    "#create a basic ATM program tht allows user to check their balance, deposit money and withdraw money ensuring they dont withdraw more than they have.\n",
    "ATM=[\n",
    "    {\"A/cNo.\":1234567890,\"Amount\":1500000,\"ATMPIN\":1234},\n",
    "    {\"A/cNo.\":1987654321,\"Amount\":1000,\"ATMPIN\":4321}\n",
    "]\n",
    "print('ATM')\n",
    "account=0\n",
    "a=int(input(\"Enter your A/c number:\"))\n",
    "Pin=int(input(\"Enter your ATM PIN\"))\n",
    "for ac in ATM:\n",
    "    if ac['A/cNo.']==a and ac['ATMPIN']==Pin:\n",
    "        account=ac\n",
    "    break\n",
    "if account:\n",
    "    print(\"Login successful!\")\n",
    "    while 1==1:\n",
    "        print(\"1. Check Balance\")\n",
    "        print(\"2. Deposit Money\")\n",
    "        print(\"3. Withdraw Money\")\n",
    "        print(\"4. Exit\")\n",
    "        choice=int(input(\"Enter a number of an option\"))\n",
    "        \n",
    "        if choice==1:\n",
    "            print(f\"Balance is: Rs.{account['Amount']}\")\n",
    "            \n",
    "        elif choice==2:\n",
    "            deposit=int(input(\"Please add some deposit:\"))\n",
    "            \n",
    "            if deposit>0:\n",
    "                account['Amount']+=deposit\n",
    "                print(f\"deposit Rs.{deposit}.Newbalance: Rs.{account['Amount']}\")\n",
    "            else:\n",
    "                print(\"Invalid amount\")\n",
    "                \n",
    "        elif choice == 3:\n",
    "            withdraw=int(input(\"Please withdraw some amount:\"))\n",
    "            \n",
    "            if withdraw>account['Amount']:\n",
    "                print(\"Balance is Insuffient.\")\n",
    "            elif withdraw<=0:\n",
    "                print(\"Please enter accurate amount\")\n",
    "            else:\n",
    "              account[\"Amount\"] -= withdraw \n",
    "              print(f\"Withraw Rs.{withdraw}.Newbalance: Rs.{account['Amount']}\")\n",
    "                \n",
    "        elif choice == 4:\n",
    "            print(\"Thank you for using our ATM!\")\n",
    "            break\n",
    "            \n",
    "        else:\n",
    "            print(\"Invalid option.\")\n",
    "else:\n",
    "    print(\"Invalid account number or PIN!\")"
   ]
  }
 ],
 "metadata": {
  "kernelspec": {
   "display_name": "Python 3 (ipykernel)",
   "language": "python",
   "name": "python3"
  },
  "language_info": {
   "codemirror_mode": {
    "name": "ipython",
    "version": 3
   },
   "file_extension": ".py",
   "mimetype": "text/x-python",
   "name": "python",
   "nbconvert_exporter": "python",
   "pygments_lexer": "ipython3",
   "version": "3.11.7"
  }
 },
 "nbformat": 4,
 "nbformat_minor": 5
}
