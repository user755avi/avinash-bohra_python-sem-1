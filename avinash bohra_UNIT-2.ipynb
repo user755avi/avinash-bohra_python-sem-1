{
 "cells": [
  {
   "cell_type": "markdown",
   "id": "6a0843f3-6ba8-477f-b542-6d4c163cab18",
   "metadata": {},
   "source": [
    "# UNIT-2"
   ]
  },
  {
   "cell_type": "code",
   "execution_count": 15,
   "id": "1ecc188b-f31d-45eb-bf73-0c5b4c0c447e",
   "metadata": {},
   "outputs": [
    {
     "name": "stdout",
     "output_type": "stream",
     "text": [
      "Hello World\n"
     ]
    }
   ],
   "source": [
    "#Write a Python Program to Print \"Hello World\"\n",
    "print(\"Hello World\")"
   ]
  },
  {
   "cell_type": "code",
   "execution_count": 17,
   "id": "7b9de259-57eb-4378-8ef6-f7cad5e64a52",
   "metadata": {},
   "outputs": [
    {
     "name": "stdin",
     "output_type": "stream",
     "text": [
      "Enter the first number:  34\n",
      "Enter the second number:  43\n"
     ]
    },
    {
     "name": "stdout",
     "output_type": "stream",
     "text": [
      "Addition:  77.0\n",
      "Subtraction:  -9.0\n",
      "Multiplication:  1462.0\n",
      "Division:  0.7906976744186046\n",
      "Modulus:  34.0\n",
      "Exponent:  7.138277593751955e+65\n"
     ]
    }
   ],
   "source": [
    "#Write a Python Program to Input two numbers and perform all operations\n",
    "num1 = float(input(\"Enter the first number: \"))\n",
    "num2 = float(input(\"Enter the second number: \"))\n",
    "\n",
    "addition = num1 + num2\n",
    "subtraction = num1 - num2\n",
    "multiplication = num1 * num2\n",
    "division = num1 / num2\n",
    "modulus = num1 % num2\n",
    "exponent = num1 ** num2 \n",
    "\n",
    "print(\"Addition: \", addition)\n",
    "print(\"Subtraction: \", subtraction)\n",
    "print(\"Multiplication: \", multiplication)\n",
    "print(\"Division: \", division)\n",
    "print(\"Modulus: \",modulus)\n",
    "print(\"Exponent: \",exponent)"
   ]
  },
  {
   "cell_type": "code",
   "execution_count": 27,
   "id": "bc0387b4-711a-4fb7-9cd4-379abb771cfe",
   "metadata": {},
   "outputs": [
    {
     "name": "stdin",
     "output_type": "stream",
     "text": [
      "Enter a number:  43\n"
     ]
    },
    {
     "name": "stdout",
     "output_type": "stream",
     "text": [
      "Number is odd = 43\n"
     ]
    }
   ],
   "source": [
    "#Write a Python program to check weather a number is even or odd \n",
    "num = int(input(\"Enter a number: \"))\n",
    "if num % 2 == 0:\n",
    "    print(\"Number is Even =\",num)\n",
    "else:\n",
    "    print(\"Number is odd =\",num)"
   ]
  },
  {
   "cell_type": "code",
   "execution_count": 29,
   "id": "80baabe7-c88f-41fc-886e-def501755216",
   "metadata": {},
   "outputs": [
    {
     "name": "stdin",
     "output_type": "stream",
     "text": [
      "Enter a number:  15\n"
     ]
    },
    {
     "name": "stdout",
     "output_type": "stream",
     "text": [
      "Divisible by 3\n",
      "It also divisible by 5.\n"
     ]
    }
   ],
   "source": [
    "#Write a Python Program to check weather the number is divisible by 3 or not, also if the number is divisible by 3 check weather it is also Divisible by 5 also.\n",
    "num = int(input(\"Enter a number: \"))\n",
    "if num % 3 == 0:\n",
    "    print(\"Divisible by 3\")\n",
    "    if num % 5 == 0:\n",
    "        print(\"It also divisible by 5.\")\n",
    "    else:\n",
    "        print(\"It is not divisible by 5.\")\n",
    "else:\n",
    "    print(\"It is not divisible by 3.\")"
   ]
  },
  {
   "cell_type": "code",
   "execution_count": 31,
   "id": "86a25f6b-d785-4302-a99b-09bdeec47307",
   "metadata": {},
   "outputs": [
    {
     "name": "stdout",
     "output_type": "stream",
     "text": [
      "Even numbers from 1 to 100 are:\n",
      "2 4 6 8 10 12 14 16 18 20 22 24 26 28 30 32 34 36 38 40 42 44 46 48 50 52 54 56 58 60 62 64 66 68 70 72 74 76 78 80 82 84 86 88 90 92 94 96 98 100 "
     ]
    }
   ],
   "source": [
    "#Write a Python Program to print all Even Numbers from 1 to 100\n",
    "print(\"Even numbers from 1 to 100 are:\")\n",
    "for i in range(1, 101):\n",
    "    if i % 2 == 0:\n",
    "        print(i, end=\" \")"
   ]
  },
  {
   "cell_type": "code",
   "execution_count": 37,
   "id": "a2f449ba-7c38-4f0a-886a-968a9b021459",
   "metadata": {},
   "outputs": [
    {
     "name": "stdin",
     "output_type": "stream",
     "text": [
      "Enter the number:  99\n"
     ]
    },
    {
     "name": "stdout",
     "output_type": "stream",
     "text": [
      "The reverse number is:  99\n",
      "The number is a palindrome\n"
     ]
    }
   ],
   "source": [
    "#Write a Python Program to input a number a number and check weather it's Palindrome or Not\n",
    "number = int(input(\"Enter the number: \"))\n",
    "temp = number\n",
    "reverse =0\n",
    " \n",
    "while (number > 0):\n",
    "    dig = number % 10\n",
    "    reverse = reverse * 10 + dig\n",
    "    number = number // 10\n",
    " \n",
    "print(\"The reverse number is: \", reverse)\n",
    " \n",
    "if temp==reverse:\n",
    "    print(\"The number is a palindrome\")\n",
    "else:\n",
    "    print(\"The number is not a palindrome\") "
   ]
  },
  {
   "cell_type": "code",
   "execution_count": 39,
   "id": "ef092757-6426-4e29-b22d-0da2fcb78097",
   "metadata": {},
   "outputs": [
    {
     "name": "stdout",
     "output_type": "stream",
     "text": [
      "*\n",
      "**\n",
      "***\n",
      "****\n",
      "*****\n"
     ]
    }
   ],
   "source": [
    "#Write a Python Program to Print this Patterm.\n",
    "for i in range(0,5):\n",
    "    for j in range(0,i+1):\n",
    "        print(\"*\",end=\"\")\n",
    "    print(\"\")"
   ]
  },
  {
   "cell_type": "code",
   "execution_count": 41,
   "id": "bde62935-7a16-421a-8be9-cf151a11bae1",
   "metadata": {},
   "outputs": [
    {
     "name": "stdout",
     "output_type": "stream",
     "text": [
      "**********\n",
      "**********\n",
      "**********\n",
      "**********\n",
      "**********\n"
     ]
    }
   ],
   "source": [
    "#Write a Python Program to Print this Patterm.\n",
    "rows = 5\n",
    "columns = 10\n",
    "for i in range(rows):\n",
    "    print(\"*\" * columns)"
   ]
  },
  {
   "cell_type": "code",
   "execution_count": 43,
   "id": "94d6f38f-c3a2-4ff8-8f07-a97b80928280",
   "metadata": {},
   "outputs": [
    {
     "name": "stdout",
     "output_type": "stream",
     "text": [
      "Before swapping:\n",
      "a = 5\n",
      "b = 10\n",
      "\n",
      "After swapping:\n",
      "a = 10\n",
      "b = 5\n"
     ]
    }
   ],
   "source": [
    "#Write a Python Program to swap two numbers using 3rd Variable.\n",
    "a = 5\n",
    "b = 10\n",
    "\n",
    "print(\"Before swapping:\")\n",
    "print(\"a =\", a)\n",
    "print(\"b =\", b)\n",
    "\n",
    "temp = a\n",
    "a = b\n",
    "b = temp\n",
    "\n",
    "print(\"\\nAfter swapping:\")\n",
    "print(\"a =\", a)\n",
    "print(\"b =\", b)"
   ]
  },
  {
   "cell_type": "code",
   "execution_count": 46,
   "id": "cf3ee005-f489-49dc-af48-87f2cf6e1222",
   "metadata": {},
   "outputs": [
    {
     "name": "stdout",
     "output_type": "stream",
     "text": [
      "Before swapping:\n",
      "a = 5\n",
      "b = 10\n",
      "\n",
      "After swapping:\n",
      "a = 10\n",
      "b = 5\n"
     ]
    }
   ],
   "source": [
    "#Write a Python Program to swap two numbers without using another 3rd variable.\n",
    "a = 5\n",
    "b = 10\n",
    "\n",
    "print(\"Before swapping:\")\n",
    "print(\"a =\", a)\n",
    "print(\"b =\", b)\n",
    "\n",
    "\n",
    "a = a + b\n",
    "b = a - b\n",
    "a = a - b\n",
    "\n",
    "print(\"\\nAfter swapping:\")\n",
    "print(\"a =\", a)\n",
    "print(\"b =\", b)"
   ]
  },
  {
   "cell_type": "code",
   "execution_count": 48,
   "id": "3dc48834-b642-4eb9-9e24-eab4bda1e9e0",
   "metadata": {},
   "outputs": [
    {
     "name": "stdout",
     "output_type": "stream",
     "text": [
      "Before swapping:\n",
      "a = 5\n",
      "b = 10\n",
      "\n",
      "After swapping:\n",
      "a = 10\n",
      "b = 5\n"
     ]
    }
   ],
   "source": [
    "#Write a Python Program to swap two numbers using using a Single Line \n",
    "a = 5\n",
    "b = 10\n",
    "\n",
    "print(\"Before swapping:\")\n",
    "print(\"a =\", a)\n",
    "print(\"b =\", b)\n",
    "\n",
    "a, b = b, a\n",
    "\n",
    "print(\"\\nAfter swapping:\")\n",
    "print(\"a =\", a)\n",
    "print(\"b =\", b)"
   ]
  }
 ],
 "metadata": {
  "kernelspec": {
   "display_name": "Python 3 (ipykernel)",
   "language": "python",
   "name": "python3"
  },
  "language_info": {
   "codemirror_mode": {
    "name": "ipython",
    "version": 3
   },
   "file_extension": ".py",
   "mimetype": "text/x-python",
   "name": "python",
   "nbconvert_exporter": "python",
   "pygments_lexer": "ipython3",
   "version": "3.11.7"
  }
 },
 "nbformat": 4,
 "nbformat_minor": 5
}
