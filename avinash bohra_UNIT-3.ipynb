{
 "cells": [
  {
   "cell_type": "markdown",
   "id": "6632409d-e316-4f00-a5af-6484e7d59dd5",
   "metadata": {},
   "source": [
    "# UNIT-3"
   ]
  },
  {
   "cell_type": "code",
   "execution_count": 14,
   "id": "788f15dc-5c4b-4ec0-be42-d7c941605ac6",
   "metadata": {},
   "outputs": [
    {
     "name": "stdin",
     "output_type": "stream",
     "text": [
      "Enter number from user 45\n"
     ]
    },
    {
     "name": "stdout",
     "output_type": "stream",
     "text": [
      "0 1 1 2 3 5 8 13 21 34 55 89 144 233 377 610 987 1597 2584 4181 6765 10946 17711 28657 46368 75025 121393 196418 317811 514229 832040 1346269 2178309 3524578 5702887 9227465 14930352 24157817 39088169 63245986 102334155 165580141 267914296 433494437 701408733 "
     ]
    }
   ],
   "source": [
    "#Write a Python Program to print Fibonacci Series.\n",
    "def fibo(n):\n",
    "    a=0\n",
    "    b=1\n",
    "    for i in range(n):\n",
    "        print(a,end=\" \")\n",
    "        a,b=b,b+a\n",
    "z=int(input(\"Enter number from user\"))\n",
    "fibo(z)"
   ]
  },
  {
   "cell_type": "code",
   "execution_count": 20,
   "id": "da3627ab-a0be-40c4-a122-6b48646d98d9",
   "metadata": {},
   "outputs": [
    {
     "name": "stdin",
     "output_type": "stream",
     "text": [
      "Enter number 5\n"
     ]
    },
    {
     "name": "stdout",
     "output_type": "stream",
     "text": [
      "5 X 1 = 5\n",
      "5 X 2 = 10\n",
      "5 X 3 = 15\n",
      "5 X 4 = 20\n",
      "5 X 5 = 25\n",
      "5 X 6 = 30\n",
      "5 X 7 = 35\n",
      "5 X 8 = 40\n",
      "5 X 9 = 45\n",
      "5 X 10 = 50\n"
     ]
    }
   ],
   "source": [
    "#To print the table of any number given by the user\n",
    "def tab(a,b):\n",
    "    return a*b\n",
    "num=int(input(\"Enter number\"))\n",
    "for i in range(1,11):\n",
    "    print(f\"{num} X {i} = {tab(num,i)}\")"
   ]
  },
  {
   "cell_type": "code",
   "execution_count": 22,
   "id": "eb10453b-296d-4b27-a18c-53de760f1207",
   "metadata": {},
   "outputs": [
    {
     "name": "stdout",
     "output_type": "stream",
     "text": [
      "Select operation.\n",
      "1.Add\n",
      "2.Subtract\n",
      "3.Multiply\n",
      "4.Divide\n",
      "5.Exit\n"
     ]
    },
    {
     "name": "stdin",
     "output_type": "stream",
     "text": [
      "Enter choice(1/2/3/4/5):  1\n",
      "Enter number 1 31\n",
      "Enter number 2 32\n"
     ]
    },
    {
     "name": "stdout",
     "output_type": "stream",
     "text": [
      "31 + 32 = 63\n"
     ]
    },
    {
     "name": "stdin",
     "output_type": "stream",
     "text": [
      "Enter choice(1/2/3/4/5):  5\n"
     ]
    },
    {
     "name": "stdout",
     "output_type": "stream",
     "text": [
      "Thank you for using\n"
     ]
    }
   ],
   "source": [
    "#write a python program to create function for every mathematical operations and create calculator using the same \n",
    "def add(a,b):\n",
    "    return a+b\n",
    "def sub(a,b):\n",
    "    return a-b\n",
    "def multiply(a,b):\n",
    "    return a*b\n",
    "def divide(a,b):\n",
    "    return a/b\n",
    "\n",
    "print(\"Select operation.\")\n",
    "print(\"1.Add\")\n",
    "print(\"2.Subtract\")\n",
    "print(\"3.Multiply\")\n",
    "print(\"4.Divide\")\n",
    "print(\"5.Exit\")\n",
    "\n",
    "while 1==1:\n",
    "    \n",
    "    choice = input(\"Enter choice(1/2/3/4/5): \")\n",
    "    \n",
    "    if choice in ('1', '2', '3', '4','5'):\n",
    "        \n",
    "        if choice == '1':\n",
    "            num1=int(input(\"Enter number 1\"))\n",
    "            num2=int(input(\"Enter number 2\"))\n",
    "            print(num1, \"+\", num2, \"=\", add(num1, num2))\n",
    "\n",
    "        elif choice == '2':\n",
    "            num1=int(input(\"Enter number 1\"))\n",
    "            num2=int(input(\"Enter number 2\"))\n",
    "            print(num1, \"-\", num2, \"=\", sub(num1, num2))\n",
    "\n",
    "        elif choice == '3':\n",
    "            num1=int(input(\"Enter number 1\"))\n",
    "            num2=int(input(\"Enter number 2\"))\n",
    "            print(num1, \"*\", num2, \"=\", multiply(num1, num2))\n",
    "\n",
    "        elif choice == '4':\n",
    "            num1=int(input(\"Enter number 1\"))\n",
    "            num2=int(input(\"Enter number 2\"))\n",
    "            print(num1, \"/\", num2, \"=\", divide(num1, num2))\n",
    "            \n",
    "        elif choice == '5':\n",
    "            print(\"Thank you for using\")\n",
    "            break\n",
    "            \n",
    "    else:\n",
    "        print(\"Invalid Input\")"
   ]
  },
  {
   "cell_type": "code",
   "execution_count": 24,
   "id": "6bac2049-1334-4b7f-8264-961b985fd706",
   "metadata": {},
   "outputs": [
    {
     "name": "stdin",
     "output_type": "stream",
     "text": [
      "Enter a number:  54\n"
     ]
    },
    {
     "name": "stdout",
     "output_type": "stream",
     "text": [
      "The number 54 is Even.\n"
     ]
    }
   ],
   "source": [
    "#Write a Python Program to create a function weather a number is Even and Odd.\n",
    "def check(number):\n",
    "    if number % 2 == 0:\n",
    "        return \"Even\"\n",
    "    else:\n",
    "        return \"Odd\"\n",
    "\n",
    "num = int(input(\"Enter a number: \"))\n",
    "\n",
    "result = check(num)\n",
    "print(f\"The number {num} is {result}.\")"
   ]
  },
  {
   "cell_type": "code",
   "execution_count": 26,
   "id": "d7a29027-8c98-43fc-8f76-87fbeae00fae",
   "metadata": {},
   "outputs": [
    {
     "name": "stdin",
     "output_type": "stream",
     "text": [
      "Enter a number:  9\n"
     ]
    },
    {
     "name": "stdout",
     "output_type": "stream",
     "text": [
      "The factorial of 9 is: 362880\n"
     ]
    }
   ],
   "source": [
    "#Write a Python Program to Create a function that outputs Factorials of a number without using Recursion.\n",
    "def factorial(number):\n",
    "    result = 1\n",
    "    for i in range(1, number + 1):\n",
    "        result *= i\n",
    "    return result\n",
    "\n",
    "num = int(input(\"Enter a number: \"))\n",
    "\n",
    "if num < 0:\n",
    "    print(\"Factorial is not defined for negative numbers.\")\n",
    "else:\n",
    "    print(f\"The factorial of {num} is: {factorial(num)}\")"
   ]
  },
  {
   "cell_type": "code",
   "execution_count": 28,
   "id": "f7f658a4-e8b1-4ff7-993b-f373e301527f",
   "metadata": {},
   "outputs": [
    {
     "name": "stdin",
     "output_type": "stream",
     "text": [
      "Enter the number of elements:  5\n",
      "Enter number 1:  1\n",
      "Enter number 2:  2\n",
      "Enter number 3:  3\n",
      "Enter number 4:  45\n",
      "Enter number 5:  5\n"
     ]
    },
    {
     "name": "stdout",
     "output_type": "stream",
     "text": [
      "\n",
      "Sum: 56.0\n",
      "Product: 1350.0\n",
      "Average: 11.2\n"
     ]
    }
   ],
   "source": [
    "#Write a Python Program to create a function that inputs any number of parameters and outputs Sum, Product and Average.\n",
    "def calculate_stats(*numbers):\n",
    "    total = sum(numbers)  \n",
    "    product = 1           \n",
    "    for num in numbers:\n",
    "        product *= num    \n",
    "    average = total / len(numbers)  \n",
    "    return total, product, average\n",
    "\n",
    "\n",
    "nums = []  \n",
    "n = int(input(\"Enter the number of elements: \"))  \n",
    "for i in range(n):\n",
    "    num = float(input(f\"Enter number {i + 1}: \"))  \n",
    "    nums.append(num)  \n",
    "\n",
    "total, product, average = calculate_stats(*nums)\n",
    "print(f\"\\nSum: {total}\")\n",
    "print(f\"Product: {product}\")\n",
    "print(f\"Average: {average}\")"
   ]
  },
  {
   "cell_type": "code",
   "execution_count": 30,
   "id": "ac9221b5-393e-4675-817d-a77b913a3d05",
   "metadata": {},
   "outputs": [
    {
     "name": "stdin",
     "output_type": "stream",
     "text": [
      "Enter the first number:  34\n",
      "Enter the second number:  54\n"
     ]
    },
    {
     "name": "stdout",
     "output_type": "stream",
     "text": [
      "The sum of 34 and 54 is: 88\n"
     ]
    }
   ],
   "source": [
    "#Write a Python Program to create a Function that print a Sum of two numbers\n",
    "def sum(a, b):\n",
    "    total = a + b\n",
    "    print(f\"The sum of {a} and {b} is: {total}\")\n",
    "\n",
    "num1 = int(input(\"Enter the first number: \"))\n",
    "num2 = int(input(\"Enter the second number: \"))\n",
    "\n",
    "sum(num1, num2)"
   ]
  }
 ],
 "metadata": {
  "kernelspec": {
   "display_name": "Python 3 (ipykernel)",
   "language": "python",
   "name": "python3"
  },
  "language_info": {
   "codemirror_mode": {
    "name": "ipython",
    "version": 3
   },
   "file_extension": ".py",
   "mimetype": "text/x-python",
   "name": "python",
   "nbconvert_exporter": "python",
   "pygments_lexer": "ipython3",
   "version": "3.11.7"
  }
 },
 "nbformat": 4,
 "nbformat_minor": 5
}
